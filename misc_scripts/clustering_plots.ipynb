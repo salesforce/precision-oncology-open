{
 "cells": [
  {
   "cell_type": "code",
   "execution_count": null,
   "metadata": {},
   "outputs": [],
   "source": [
    "import sys\n",
    "import os\n",
    "import argparse\n",
    "import logging\n",
    "import shutil\n",
    "import re\n",
    "import random\n",
    "import pickle\n",
    "from PIL import Image\n",
    "from skimage import io\n",
    "import matplotlib.pyplot as plt\n",
    "import numpy as np\n",
    "import pandas as pd\n",
    "import torch\n",
    "import torch.nn.functional as F\n",
    "import torchvision.models as models\n",
    "import torch.optim as optim\n",
    "from torchvision.datasets import VisionDataset\n",
    "from torchvision import transforms\n",
    "import torch.backends.cudnn as cudnn\n",
    "from torch.utils.data import DataLoader\n",
    "from sklearn.model_selection import train_test_split\n",
    "from sklearn.metrics import confusion_matrix, auc, roc_curve\n",
    "from collections import Counter\n",
    "from utils import *\n",
    "from auto_tqdm import tqdm\n",
    "import augmentations\n",
    "from sklearn.model_selection import train_test_split\n",
    "from utils import balanced_dataset\n",
    "from PIL import ImageColor\n",
    "from matplotlib.pyplot import figure\n",
    "\n",
    "import sys\n",
    "sys.path.append(\"../clinical_data_classifier\")\n",
    "from rtog_helper import rtog_from_study_number\n",
    "from histopathology_image_helper import CaseManager\n",
    "from sklearn.cluster import KMeans\n",
    "from sklearn.neural_network import MLPClassifier\n",
    "from sklearn.manifold import TSNE\n",
    "def str2bool(v):\n",
    "    if isinstance(v, bool):\n",
    "       return v\n",
    "    if v.lower() in ('yes', 'true', 't', 'y', '1'):\n",
    "        return True\n",
    "    elif v.lower() in ('no', 'false', 'f', 'n', '0'):\n",
    "        return False\n",
    "    else:\n",
    "        raise argparse.ArgumentTypeError('Boolean value expected.')\n"
   ]
  },
  {
   "cell_type": "code",
   "execution_count": null,
   "metadata": {},
   "outputs": [],
   "source": [
    "cm = CaseManager()\n"
   ]
  },
  {
   "cell_type": "code",
   "execution_count": null,
   "metadata": {},
   "outputs": [],
   "source": [
    "slideInfo_9408 = [\n",
    "    '/export/medical_ai/ucsf/box_data/Aperio Images of NRG GU H&E Slides/RTOG-9408/11.10.2020/9408_11.10.2020 DeIDed Slide Information.xlsx',\n",
    "    '/export/medical_ai/ucsf/box_data/Aperio Images of NRG GU H&E Slides/RTOG-9408/11.23.2020/9408_11.23.2020 DeIDed Slide Information.xlsx',\n",
    "    '/export/medical_ai/ucsf/box_data/Aperio Images of NRG GU H&E Slides/RTOG-9408/12.8.2020/9408_12.8.2020 DeIDed Slide Information.xlsx',\n",
    "    '/export/medical_ai/ucsf/box_data/Aperio Images of NRG GU H&E Slides/RTOG-9408/12.22.2020/9408_12.22.2020 DeIDed Slide Information.xlsx',\n",
    "    '/export/medical_ai/ucsf/box_data/Aperio Images of NRG GU H&E Slides/RTOG-9408/1.12.2021/9408_1.12.2021 DeIDed Slide Information.xlsx',\n",
    "    '/export/medical_ai/ucsf/box_data/Aperio Images of NRG GU H&E Slides/RTOG-9408/1.26.2021/9408_1.26.2021 DeIDed Slide Information.xlsx',\n",
    "    '/export/medical_ai/ucsf/box_data/Aperio Images of NRG GU H&E Slides/RTOG-9408/2.16.2021/9408_2.16.2021 DeIDed Slide Information.xlsx',\n",
    "    '/export/medical_ai/ucsf/box_data/Aperio Images of NRG GU H&E Slides/RTOG-9408/3.2.2021/9408_3.2.2021 DeIDed Slide Information.xlsx',\n",
    "    '/export/medical_ai/ucsf/box_data/Aperio Images of NRG GU H&E Slides/RTOG-9408/3.16.2021/9408_3.16.2021 DeIDed Slide Information.xlsx',\n",
    "    '/export/medical_ai/ucsf/box_data/Aperio Images of NRG GU H&E Slides/RTOG-9408/3.30.2021/9408_3.30.2021 DeIDed Slide Information.xlsx',\n",
    "    '/export/medical_ai/ucsf/box_data/Aperio Images of NRG GU H&E Slides/RTOG-9408/4.13.2021/9408_4.13.2021 DeIDed Slide Information.xlsx',\n",
    "    '/export/medical_ai/ucsf/box_data/Aperio Images of NRG GU H&E Slides/RTOG-9408/4.27.2021/9408_4.27.2021 DeIDed Slide Information.xlsx',\n",
    "    '/export/medical_ai/ucsf/box_data/Aperio Images of NRG GU H&E Slides/RTOG-9408/5.11.2021/9408_5.11.2021 DeIDed Slide Information.xlsx',\n",
    "    '/export/medical_ai/ucsf/box_data/Aperio Images of NRG GU H&E Slides/RTOG-9408/5.13.2021 all rescans/9408_5.13.2021 DeIDed Slide Information.xlsx',\n",
    "    \"/export/medical_ai/ucsf/box_data/Aperio Images of NRG GU H&E Slides/RTOG-9408/6.9.2021/9408_6.9.2021 DeIDed Slide Information.xlsx\",\n",
    "    \"/export/medical_ai/ucsf/box_data/Aperio Images of NRG GU H&E Slides/RTOG-9408/7.28.2021/9408_7.28.2021 DE-ID'ed Export.xlsx\",\n",
    "    \"/export/medical_ai/ucsf/box_data/Aperio Images of NRG GU H&E Slides/RTOG-9408/8.3.2021 Histo/9408_8.3.2021-Deided- Histo Export.xlsx\"\n",
    "]\n",
    "\n",
    "slideInfo_9202 = [\n",
    "    \"/export/medical_ai/ucsf/box_data/Aperio Images of NRG GU H&E Slides/RTOG-9202/1.12.2021/9202_1.12.2021 DeIDed Slide Information updated 2.4.2021.xlsx\",\n",
    "    \"/export/medical_ai/ucsf/box_data/Aperio Images of NRG GU H&E Slides/RTOG-9202/1.26.2021/9202_1.26.2021 DeIDed Slide Information updated 2.4.2021.xlsx\",\n",
    "    \"/export/medical_ai/ucsf/box_data/Aperio Images of NRG GU H&E Slides/RTOG-9202/10.21.2020/9202_10.21.2020 DeID Slide Information.xlsx\" ,\n",
    "    \"/export/medical_ai/ucsf/box_data/Aperio Images of NRG GU H&E Slides/RTOG-9202/10.5.2020/9202_10.5.2020 DeIDed Slide Information Updated 10.21.20.xlsx\",\n",
    "    \"/export/medical_ai/ucsf/box_data/Aperio Images of NRG GU H&E Slides/RTOG-9202/11.24.2020/9202_11.24.2020 DeIDed Slide Information updated 12.9.2020.xlsx\",\n",
    "    \"/export/medical_ai/ucsf/box_data/Aperio Images of NRG GU H&E Slides/RTOG-9202/11.9.2020/9202_11.9.2020 DeIDed Slide Information.xlsx\",\n",
    "    \"/export/medical_ai/ucsf/box_data/Aperio Images of NRG GU H&E Slides/RTOG-9202/12.22.2020/9202_12.22.2020 DeIDed Slide Information.xlsx\",\n",
    "    \"/export/medical_ai/ucsf/box_data/Aperio Images of NRG GU H&E Slides/RTOG-9202/12.8.2020/9202_12.8.2020 DeIDed Slide Information.xlsx\",\n",
    "    \"/export/medical_ai/ucsf/box_data/Aperio Images of NRG GU H&E Slides/RTOG-9202/2.16.2021/9202_2.16.2020 DeIDed Slide Information.xlsx\",\n",
    "    \"/export/medical_ai/ucsf/box_data/Aperio Images of NRG GU H&E Slides/RTOG-9202/3.16.2021/9202_3.16.2020 DeIDed Slide Information updated 4.5.2021.xlsx\",\n",
    "    \"/export/medical_ai/ucsf/box_data/Aperio Images of NRG GU H&E Slides/RTOG-9202/4.27.2021/9202_4.27.2021 DeIDed Slide Information.xlsx\",\n",
    "    \"/export/medical_ai/ucsf/box_data/Aperio Images of NRG GU H&E Slides/RTOG-9202/5.11.2021 all rescans/9202_5.11.2021 DeIDed Slide Information.xlsx\",\n",
    "    \"/export/medical_ai/ucsf/box_data/Aperio Images of NRG GU H&E Slides/RTOG-9202/5.25.2021/9202_5.25.2021 DeIDed Slide Information.xlsx\",\n",
    "    \"/export/medical_ai/ucsf/box_data/Aperio Images of NRG GU H&E Slides/RTOG-9202/9.14.2020/9202_9.14.2020 DeIDed Slide Information Updated 10.21.20.xlsx\",\n",
    "    \"/export/medical_ai/ucsf/box_data/Aperio Images of NRG GU H&E Slides/RTOG-9202/8.3.2021/9202_Upload_8.3.2021 De-ided.xlsx\",\n",
    "    \"/export/medical_ai/ucsf/box_data/Aperio Images of NRG GU H&E Slides/RTOG-9202/8.3.2021 Histo/9202 Histoslides_Deided-8.3.2021.xlsx\"\n",
    "]\n",
    "\n",
    "slideInfo_9413 = [\n",
    "    \"/export/medical_ai/ucsf/box_data/Aperio Images of NRG GU H&E Slides/RTOG-9413/10.22.2020/9413_10.22.2020 DeIDed Slide Information.xlsx\",\n",
    "    \"/export/medical_ai/ucsf/box_data/Aperio Images of NRG GU H&E Slides/RTOG-9413/10.5.2020/9413_10.5.2020 DeIDed Slide Information Updated 10.21.20.xlsx\",\n",
    "    \"/export/medical_ai/ucsf/box_data/Aperio Images of NRG GU H&E Slides/RTOG-9413/11.24.2020/9413_11.24.2020 DeIDed Slide Information.xlsx\",\n",
    "    \"/export/medical_ai/ucsf/box_data/Aperio Images of NRG GU H&E Slides/RTOG-9413/11.9.2020 RC slides/9413_11.9.2020 DeIDed Slide Information.xlsx\",\n",
    "    \"/export/medical_ai/ucsf/box_data/Aperio Images of NRG GU H&E Slides/RTOG-9413/8.25.2020/8.25.2020 DeIDed Slide Information Updated 10.21.2020.xlsx\",\n",
    "    \"/export/medical_ai/ucsf/box_data/Aperio Images of NRG GU H&E Slides/RTOG-9413/5.11.2021 3 rescans/9413_5.11.2021 DeIDed Slide Information.xlsx\",\n",
    "    \"/export/medical_ai/ucsf/box_data/Aperio Images of NRG GU H&E Slides/RTOG-9413/6.9.2021/9413_6.9.2021 DeIDed Slide Information.xlsx\",\n",
    "    \"/export/medical_ai/ucsf/box_data/Aperio Images of NRG GU H&E Slides/RTOG-9413/7.28.2021 Histo/De-ided-9413_7.28.2021 Histology Export.xlsx\" \n",
    "]\n",
    "\n",
    "slideInfo_9910 = [\n",
    "    \"/export/medical_ai/ucsf/box_data/Aperio Images of NRG GU H&E Slides/RTOG-9910/6.9.2021/9910_6.9.2021 DeIDed Slide Information.xlsx\",\n",
    "    \"/export/medical_ai/ucsf/box_data/Aperio Images of NRG GU H&E Slides/RTOG-9910/6.21.2021/9910_6.21.2021 DeIDed Slide Information.xlsx\",\n",
    "    \"/export/medical_ai/ucsf/box_data/Aperio Images of NRG GU H&E Slides/RTOG-9910/7.21.2021 Blurry/9910_7.21.2021_Blurry DeIDed Slide Information.xlsx\",\n",
    "    \"/export/medical_ai/ucsf/box_data/Aperio Images of NRG GU H&E Slides/RTOG-9910/7.28.2021/Deided-9910_7.28.2021 Export.xlsx\",\n",
    "    \"/export/medical_ai/ucsf/box_data/Aperio Images of NRG GU H&E Slides/RTOG-9910/8.10.2021/9910-8.11.2021_deid-upload.xlsx\"\n",
    "]\n",
    "\n",
    "\n",
    "slideInfo_0126 = [\n",
    "    \"/export/medical_ai/ucsf/box_data/Aperio Images of NRG GU H&E Slides/RTOG-0126/6.30.2021/0126_6.30.2021 DeIDed Slide Information.xlsx\",\n",
    "    \"/export/medical_ai/ucsf/box_data/Aperio Images of NRG GU H&E Slides/RTOG-0126/7.21.2021/0126_7.21.2021 DeIDed Slide Information.xlsx\",\n",
    "    \"/export/medical_ai/ucsf/box_data/Aperio Images of NRG GU H&E Slides/RTOG-0126/7.21.2021 Blurry/0126_7.21.2021 Blurry DeIDed Slide Information.xlsx\",\n",
    "    \"/export/medical_ai/ucsf/box_data/Aperio Images of NRG GU H&E Slides/RTOG-0126/7.28.2021/0126_7.28.2021 DE-ID'ed Export.xlsx\",\n",
    "    \"/export/medical_ai/ucsf/box_data/Aperio Images of NRG GU H&E Slides/RTOG-0126/8.3.2021/0126_8.3.21 De-id-Export.xlsx\",\n",
    "    \"/export/medical_ai/ucsf/box_data/Aperio Images of NRG GU H&E Slides/RTOG-0126/8.10.2021/0126-8.10.2021-Deided-upload.xlsx\"\n",
    "]\n",
    "\n",
    "def get_df_list(slideInfoList):\n",
    "    df_list = []\n",
    "    for name in slideInfoList:\n",
    "        df = pd.read_excel(name, engine='openpyxl')\n",
    "        \n",
    "        if \"Unnamed: 2\" in df.columns:\n",
    "            df.rename(columns=df.iloc[0], inplace = True)\n",
    "            df.drop([0], inplace = True)\n",
    "        if \"CN_deidentified\" in df.columns:\n",
    "            df = df.rename(columns={\"CN_deidentified\":\"cn_deidentified\"})\n",
    "        if \"CN_DeIdentified\" in df.columns:\n",
    "            df = df.rename(columns={\"CN_DeIdentified\":\"cn_deidentified\"})\n",
    "        if \"CN_Deidentified\" in df.columns:\n",
    "            df = df.rename(columns={\"CN_Deidentified\":\"cn_deidentified\"})\n",
    "        if \"CN Deid\" in df.columns:\n",
    "            df = df.rename(columns={\"CN Deid\":\"cn_deidentified\"}) \n",
    "        if \"CN-DeID'ed\" in df.columns:\n",
    "            df = df.rename(columns={\"CN-DeID'ed\":\"cn_deidentified\"}) \n",
    "        if \"CN DE-ID\" in df.columns:\n",
    "            df = df.rename(columns={\"CN DE-ID\":\"cn_deidentified\"}) \n",
    "        if \"CN deidentified\" in df.columns:\n",
    "            df = df.rename(columns={\"CN deidentified\":\"cn_deidentified\"})\n",
    "        if \"CN De-Identified\" in df.columns:\n",
    "            df = df.rename(columns={\"CN De-Identified\":\"cn_deidentified\"})  \n",
    "        if \"CN De-ID\" in df.columns:\n",
    "            df = df.rename(columns={\"CN De-ID\":\"cn_deidentified\"})           \n",
    "        \n",
    "        # Two excel files have the Treatment column named differently\n",
    "        if \"Timepoint\" in df.columns:\n",
    "            df = df.rename(columns={\"Timepoint\":\"Treatment\"})\n",
    "        if \"Tx\" in df.columns:\n",
    "            df = df.rename(columns={\"Tx\":\"Treatment\"})\n",
    "            \n",
    "        df = df.rename(columns={\"Image ID\": \"image_id\"})\n",
    "        df = df.dropna(subset=['cn_deidentified'])\n",
    "\n",
    "        df[\"image_id\"] = df[\"image_id\"].apply(lambda x: str(int(x)) + \".pkl\")\n",
    "        df[\"cn_deidentified\"] = df[\"cn_deidentified\"].apply(lambda x: int(x))\n",
    "        \n",
    "        treatment_list = ['Pre-2', 'Pre-3', 'pre', 'pre-1', 'Pre', 'Pre-1']\n",
    "        df = df[df['Treatment'].isin(treatment_list)]\n",
    "        df_list += [df]\n",
    "    return df_list\n",
    "\n",
    "slide_info_df_9408 = get_df_list(slideInfo_9408)\n",
    "slide_info_df_9413 = get_df_list(slideInfo_9413)\n",
    "slide_info_df_9202 = get_df_list(slideInfo_9202)\n",
    "slide_info_df_9910 = get_df_list(slideInfo_9910)\n",
    "slide_info_df_0126 = get_df_list(slideInfo_0126)"
   ]
  },
  {
   "cell_type": "code",
   "execution_count": null,
   "metadata": {},
   "outputs": [],
   "source": [
    "import random\n",
    "\n",
    "def get_study(feature_path, study, slide_info_dfs, case_df):\n",
    "    tissue_path = \"/export/medical_ai/ucsf/tissue_vs_non_pkl/v2/RTOG-{}/\".format(study)\n",
    "    unique_cn = []\n",
    "    for df in slide_info_dfs:            \n",
    "        unique_cn += list(df.cn_deidentified.unique())\n",
    "    unique_cn = list(set(unique_cn))\n",
    "    features = []\n",
    "    features_full = []\n",
    "    paths_full = []\n",
    "    for cn in tqdm(unique_cn[::-1]):\n",
    "        if not cn in case_df.cn_deidentified.unique():\n",
    "            continue\n",
    "        slides = []\n",
    "        for df in slide_info_dfs:\n",
    "            slides += list(df.loc[df.cn_deidentified == cn].image_id)\n",
    "\n",
    "    #     print(slides, cn)\n",
    "        for slide in slides:\n",
    "            if not os.path.exists(feature_path + slide):\n",
    "                continue\n",
    "            data = pickle.load(open(feature_path + slide, \"rb\"))\n",
    "            random.shuffle(data)\n",
    "            features += [data[:int(len(data)/4)]]\n",
    "            features_full += [data]\n",
    "            df = pd.read_pickle(tissue_path + slide)\n",
    "            df = df.loc[df.tissue_vs_non]\n",
    "            paths_full += [list(df.path)]\n",
    "    features = np.concatenate(features)\n",
    "    features_full = np.concatenate(features_full)\n",
    "    paths_full = np.concatenate(paths_full)\n",
    "    return features, features_full, paths_full\n",
    "\n",
    "# feature_path = \"/export/medical_ai/ucsf/ssl_rtog/moco/model_R50_b=256_lr=0.03_pg4plus_imagenet_pretrained_nucleic/features/RTOG-9202_features/\"\n",
    "# features, features_full, paths_full = get_study(feature_path, \"9202\", slide_info_dfs_9202, case_df_9202)\n",
    "# feature_path = \"/export/medical_ai/ucsf/ssl_rtog/moco/model_R50_b=256_lr=0.03_pg4plus_imagenet_pretrained_nucleic/features/RTOG-9413_features/\"\n",
    "# features, features_full, paths_full = get_study(feature_path, \"9413\", slide_info_dfs_9413, case_df_9413)\n",
    "feature_path = \"/export/medical_ai/ucsf/ssl_rtog/moco/model_R50_b=256_lr=0.03_pg4plus_imagenet_pretrained_nucleic/features/RTOG-9408_features/\"\n",
    "features, features_full, paths_full = get_study(feature_path, \"9408\", slide_info_dfs_9408, case_df_9408)\n"
   ]
  },
  {
   "cell_type": "code",
   "execution_count": null,
   "metadata": {},
   "outputs": [],
   "source": [
    "# get all data\n",
    "feature_path = \"/export/medical_ai/ucsf/ssl_rtog/moco/model_R50_b=256_lr=0.03_pg4plus_imagenet_pretrained_nucleic/features/RTOG-9202_features/\"\n",
    "features_9202, features_full_9202, paths_full_9202 = get_study(feature_path, \"9202\", slide_info_dfs_9202, case_df_9202)\n",
    "feature_path = \"/export/medical_ai/ucsf/ssl_rtog/moco/model_R50_b=256_lr=0.03_pg4plus_imagenet_pretrained_nucleic/features/RTOG-9413_features/\"\n",
    "features_9413, features_full_9413, paths_full_9413 = get_study(feature_path, \"9413\", slide_info_dfs_9413, case_df_9413)\n",
    "feature_path = \"/export/medical_ai/ucsf/ssl_rtog/moco/model_R50_b=256_lr=0.03_pg4plus_imagenet_pretrained_nucleic/features/RTOG-9408_features/\"\n",
    "features_9408, features_full_9408, paths_full_9408 = get_study(feature_path, \"9408\", slide_info_dfs_9408, case_df_9408)\n",
    "features = np.concatenate([features_9202, features_9413, features_9408])\n",
    "features_full = np.concatenate([features_full_9202, features_full_9413, features_full_9408])\n",
    "paths_full = np.concatenate([paths_full_9202, paths_full_9413, paths_full_9408])"
   ]
  },
  {
   "cell_type": "code",
   "execution_count": null,
   "metadata": {},
   "outputs": [],
   "source": [
    "clf = KMeans(n_clusters=25)\n",
    "clf.fit(features)\n",
    "cluster_labels = clf.predict(features_full)"
   ]
  },
  {
   "cell_type": "code",
   "execution_count": null,
   "metadata": {},
   "outputs": [],
   "source": [
    "from sklearn.metrics import pairwise_distances\n",
    "distances = pairwise_distances(clf.cluster_centers_, features_full)\n",
    "argsorted_distances = np.argsort(distances)"
   ]
  },
  {
   "cell_type": "code",
   "execution_count": null,
   "metadata": {},
   "outputs": [],
   "source": [
    "plot_paths = []\n",
    "for cluster in argsorted_distances:\n",
    "    cluster_paths = []\n",
    "    for idx in cluster[:25]:\n",
    "        cluster_paths += [paths_full[idx]]\n",
    "    plot_paths += [cluster_paths]\n",
    "    \n",
    "    \n",
    "empty_img = np.zeros((256*25 + 25*10, 256*25 + 25*10, 3)).astype(np.uint8)\n",
    "for i, cluster in enumerate(plot_paths):\n",
    "    for j, img in enumerate(cluster):\n",
    "        x = i * 256 + i * 10\n",
    "        y = j * 256 + j * 10\n",
    "        img = Image.open(img)\n",
    "        empty_img[x:x+256, y:y+256] = np.array(img).astype(np.uint8)\n",
    "plt.imshow(empty_img)\n",
    "save_path = \"./cluster_viz/umap_nucleic/\"\n",
    "plt.imsave(save_path + \"all_studies_kmeans_25_clust.png\", empty_img)\n"
   ]
  },
  {
   "cell_type": "code",
   "execution_count": null,
   "metadata": {},
   "outputs": [],
   "source": [
    "# plot extended data figure with numbers in the sidebar. \n",
    "from PIL import ImageDraw, Image\n",
    "\n",
    "plot_paths = []\n",
    "for cluster in argsorted_distances:\n",
    "    cluster_paths = []\n",
    "    for idx in cluster[:25]:\n",
    "        cluster_paths += [paths_full[idx]]\n",
    "    plot_paths += [cluster_paths]\n",
    "    \n",
    "    \n",
    "empty_img = np.zeros((256*25 + 26*10,256 + 256*25 + 25*10, 3)).astype(np.uint8)\n",
    "for i, cluster in enumerate(plot_paths):\n",
    "    for j, img in enumerate(cluster):\n",
    "        x = i * 256 + i * 10 + 10\n",
    "        y = 256 + j * 256 + j * 10\n",
    "        img = Image.open(img)\n",
    "        empty_img[x:x+256, y:y+256] = np.array(img).astype(np.uint8)\n",
    "    if i == 5:\n",
    "        break\n",
    "\n",
    "\n",
    "img = Image.fromarray(empty_img)\n",
    "draw = ImageDraw.Draw(img)\n",
    "font = ImageFont.truetype(\"/usr/share/fonts/dejavu/DejaVuSans.ttf\", 200)\n",
    "font_small = ImageFont.truetype(\"/usr/share/fonts/dejavu/DejaVuSans.ttf\", 12)\n",
    "for i, _ in enumerate(plot_paths):\n",
    "    for j, _ in enumerate(cluster):\n",
    "        x = i * 256 + i * 10\n",
    "        y = 256 + j * 256 + j * 10\n",
    "        draw.text((y - 10,x-3), str(j), (255,255,255),font=font_small)\n",
    "\n",
    "\n",
    "for i in range(len(plot_paths)):\n",
    "    draw.text((0,i*256 + i*10), str(i), (255,255,255),font=font)\n",
    "\n",
    "plt.imshow(np.array(img))\n",
    "# plt.imshow(empty_img)\n",
    "save_path = \"./cluster_viz/umap_nucleic/\"\n",
    "plt.imsave(save_path + \"all_studies_kmeans_25_clust_num_test.png\", np.array(img))\n"
   ]
  },
  {
   "cell_type": "code",
   "execution_count": null,
   "metadata": {},
   "outputs": [],
   "source": [
    "colors = [\"#696969\", \"#FF5733\", \"#8b4513\",\"#483d8b\",\"#008000\",\"#000080\",\"#9acd32\",\"#daa520\",\"#8b008b\",\"#00ced1\",\"#ffff00\",\"#7cfc00\",\"#00fa9a\",\"#8a2be2\",\"#dc143c\",\"#00bfff\",\"#0000ff\",\"#d8bfd8\",\"#ff00ff\",\"#1e90ff\",\"#db7093\",\"#ff1493\",\"#ffa07a\",\"#ee82ee\",\"#ffffe0\"]\n",
    "colors = [ImageColor.getcolor(x, \"RGB\") for x in colors]"
   ]
  },
  {
   "cell_type": "code",
   "execution_count": null,
   "metadata": {},
   "outputs": [],
   "source": [
    "import umap.umap_\n",
    "indices = np.random.choice(len(features), 60000)\n",
    "\n",
    "projection_vectors = umap.umap_.UMAP(n_neighbors=15, min_dist=0.3).fit_transform(features_full[indices])\n",
    "plot_path = \"cluster_viz/umap_nucleic/all_studies_scatter.png\"\n",
    "\n",
    "plot_scatter(plot_path, projection_vectors, cluster_labels[indices], colors, \"all_studies umap 25 clusters no SVD\", save_fig=True)"
   ]
  },
  {
   "cell_type": "code",
   "execution_count": null,
   "metadata": {},
   "outputs": [],
   "source": [
    "reconstruction = {\"projection_vectors\": projection_vectors,\n",
    "                    \"cluster_labels\": cluster_labels[indices],\n",
    "                    \"data_vectors\": features[indices],\n",
    "                    \"image_list\":  paths_full[indices],\n",
    "                  \"cluster_centers\": clf.cluster_centers_,\n",
    "                 }\n",
    "import pickle\n",
    "# with open(\"/export/home/prostate/precision_main3/SSL/simclr/cluster_viz/umap_nucleic/all_studies.pkl\", \"wb\") as f:\n",
    "#     pickle.dump(reconstruction, f)"
   ]
  },
  {
   "cell_type": "code",
   "execution_count": null,
   "metadata": {},
   "outputs": [],
   "source": []
  },
  {
   "cell_type": "code",
   "execution_count": null,
   "metadata": {},
   "outputs": [],
   "source": []
  },
  {
   "cell_type": "code",
   "execution_count": null,
   "metadata": {},
   "outputs": [],
   "source": [
    "# download e2i package here: https://github.com/YontiLevin/Embeddings2Image\n",
    "# replace modules.py with this file: https://github.com/MetaMind/douwe-scratchpad/tree/master/precision_oncology/embedding2img\n",
    "# do setup.py install\n",
    "from e2i import EmbeddingsProjector"
   ]
  },
  {
   "cell_type": "code",
   "execution_count": null,
   "metadata": {},
   "outputs": [],
   "source": [
    "# cluster_indices = np.random.choice(len(features), 150000)\n",
    "\n",
    "# clf = KMeans(n_clusters=25)#[KMeans(n_clusters=i) for i in Ks]\n",
    "# clf.fit(features[cluster_indices])\n",
    "\n",
    "def plot_visual_tsne(plot_path, features, paths, clf, colors):\n",
    "    indices = np.random.choice(len(features), 50000)\n",
    "    cluster_labels = clf.predict(features[indices])\n",
    "\n",
    "    image = EmbeddingsProjector()\n",
    "    image.output_img_size =  15000\n",
    "    image.each_img_size = 256\n",
    "    image.colors = colors\n",
    "    image.cluster_labels = cluster_labels\n",
    "    image.data_vectors = features[indices]\n",
    "    image.image_list = paths[indices]\n",
    "#     image._svd=False\n",
    "    image._crop()\n",
    "    \n",
    "    print(\"starting calculation\")\n",
    "    image.calculate_projection()\n",
    "    print(\"creating image\")\n",
    "#     image.create_image(plot_path)\n",
    "    return image\n",
    "plot_path = \"./test_no_svd.jpg\"\n",
    "image = plot_visual_tsne(plot_path, features, paths_full, clf, colors)"
   ]
  },
  {
   "cell_type": "markdown",
   "metadata": {},
   "source": [
    "# plot embeddings"
   ]
  },
  {
   "cell_type": "code",
   "execution_count": null,
   "metadata": {},
   "outputs": [],
   "source": [
    "import umap.umap_\n",
    "indices = np.random.choice(len(features), 50000)\n",
    "\n",
    "projection_vectors = umap.umap_.UMAP(n_neighbors=15, min_dist=0.3).fit_transform(features_full[indices])\n"
   ]
  },
  {
   "cell_type": "code",
   "execution_count": null,
   "metadata": {},
   "outputs": [],
   "source": [
    "plot_path = \"./trash\"\n",
    "# 5 neighbours\n",
    "plot_scatter(plot_path, projection_vectors, cluster_labels[indices], colors, \"9202 umap 25 clusters no SVD\")"
   ]
  },
  {
   "cell_type": "code",
   "execution_count": null,
   "metadata": {},
   "outputs": [],
   "source": [
    "plot_path = \"./trash\"\n",
    "#10 neighbours\n",
    "plot_scatter(plot_path, projection_vectors, cluster_labels[indices], colors, \"9202 umap 25 clusters no SVD\")"
   ]
  },
  {
   "cell_type": "code",
   "execution_count": null,
   "metadata": {},
   "outputs": [],
   "source": [
    "plot_path = \"./trash\"\n",
    "#15 neighbours\n",
    "plot_scatter(plot_path, projection_vectors, cluster_labels[indices], colors, \"9202 umap 25 clusters no SVD\")"
   ]
  },
  {
   "cell_type": "code",
   "execution_count": null,
   "metadata": {},
   "outputs": [],
   "source": [
    "plot_path = \"./trash\"\n",
    "#20 neighbours\n",
    "plot_scatter(plot_path, projection_vectors, cluster_labels[indices], colors, \"9202 umap 25 clusters no SVD\")"
   ]
  },
  {
   "cell_type": "code",
   "execution_count": null,
   "metadata": {},
   "outputs": [],
   "source": [
    "\n",
    "def plot_scatter(plot_path, projection_vectors, cluster_labels, colors, title=\"\", save_fig=False):\n",
    "    figure(figsize=(16, 9), dpi=1000)\n",
    "    for class_id in list(set(cluster_labels)):\n",
    "        bool_arr = cluster_labels == class_id\n",
    "        to_plot = projection_vectors[bool_arr]\n",
    "        plt.scatter(to_plot[:,0][:200], to_plot[:,1][:200], c=np.array([colors[class_id]])/255)\n",
    "    if save_fig:\n",
    "        plt.savefig(plot_path)\n",
    "    plt.title(title)\n",
    "    plt.show()\n",
    "plot_path = \"./test_scatter_no_svd.jpg\"\n",
    "plot_scatter(plot_path, image.projection_vectors, image.cluster_labels, colors, \"with svd 9202\")"
   ]
  },
  {
   "cell_type": "markdown",
   "metadata": {},
   "source": [
    "# save embeddings for later"
   ]
  },
  {
   "cell_type": "code",
   "execution_count": null,
   "metadata": {},
   "outputs": [],
   "source": [
    "reconstruction = {\"projection_vectors\": image.projection_vectors,\n",
    "                    \"cluster_labels\": cluster_labels,\n",
    "                    \"data_vectors\": features[indices],\n",
    "                    \"image_list\":  paths[indices],\n",
    "                  \"cluster_centers\": clf.cluster_centers_,\n",
    "                 }\n",
    "import pickle\n",
    "# with open(\"/export/home/prostate/precision_main3/SSL/simclr/cluster_viz/nucleic_with_saves/all_studies_data.pkl\", \"wb\") as f:\n",
    "#     pickle.dump(reconstruction, f)"
   ]
  },
  {
   "cell_type": "code",
   "execution_count": null,
   "metadata": {},
   "outputs": [],
   "source": [
    "with open(\"/export/home/prostate/precision_main3/SSL/simclr/cluster_viz/nucleic_with_saves/9202_data.pkl\", \"rb\") as f:\n",
    "    recon_9202 = pickle.load(f)"
   ]
  },
  {
   "cell_type": "code",
   "execution_count": null,
   "metadata": {},
   "outputs": [],
   "source": []
  },
  {
   "cell_type": "code",
   "execution_count": null,
   "metadata": {},
   "outputs": [],
   "source": []
  },
  {
   "cell_type": "code",
   "execution_count": null,
   "metadata": {},
   "outputs": [],
   "source": [
    "plot_path = \"./test_scatter.jpg\"\n",
    "colors_find_cluster = [(0,0,0)] * 25\n",
    "colors_find_cluster[13]=(255,0,0)\n",
    "plot_scatter(plot_path, recon_9202[\"projection_vectors\"], recon_9202[\"cluster_labels\"], colors_find_cluster)"
   ]
  },
  {
   "cell_type": "code",
   "execution_count": null,
   "metadata": {},
   "outputs": [],
   "source": [
    "for i in range(25):\n",
    "    plot_path = \"./test_scatter.jpg\"\n",
    "    colors_find_cluster = [(0,0,0)] * 25\n",
    "    colors_find_cluster[i]=(255,0,0)\n",
    "    print(\"plotting: \", i)\n",
    "    plot_scatter(plot_path, recon_9202[\"projection_vectors\"], recon_9202[\"cluster_labels\"], colors_find_cluster)"
   ]
  },
  {
   "cell_type": "markdown",
   "metadata": {},
   "source": [
    "# extended data figures plots"
   ]
  },
  {
   "cell_type": "code",
   "execution_count": null,
   "metadata": {},
   "outputs": [],
   "source": [
    "plot_path = \"./test_scatter.jpg\"\n",
    "colors_find_cluster = [(128,128,128)] * 25\n",
    "colors_find_cluster[4]=(255,0,0)\n",
    "colors_find_cluster[5]=(0,255,0)\n",
    "colors_find_cluster[10]=(0,0,255)\n",
    "colors_find_cluster[12]=(255,255,0)\n",
    "colors_find_cluster[16]=(255,0,255)\n",
    "colors_find_cluster[21]=(0,255,255)\n",
    "\n",
    "plot_scatter(plot_path, recon_9202[\"projection_vectors\"], recon_9202[\"cluster_labels\"], colors_find_cluster)"
   ]
  },
  {
   "cell_type": "code",
   "execution_count": null,
   "metadata": {},
   "outputs": [],
   "source": [
    "plot_path = \"./test_scatter.jpg\"\n",
    "colors_find_cluster = [(128,128,128)] * 25\n",
    "colors_find_cluster[8]=(255,0,0)\n",
    "colors_find_cluster[11]=(0,255,0)\n",
    "colors_find_cluster[13]=(0,0,255)\n",
    "colors_find_cluster[17]=(255,255,0)\n",
    "colors_find_cluster[16]=(255,0,255)\n",
    "colors_find_cluster[23]=(0,255,255)\n",
    "\n",
    "plot_scatter(plot_path, projection_vectors, cluster_labels[indices], colors_find_cluster)"
   ]
  },
  {
   "cell_type": "code",
   "execution_count": null,
   "metadata": {},
   "outputs": [],
   "source": [
    "# find which cluster is located where. \n",
    "for i in range(25):\n",
    "    plot_path = \"./test_scatter.jpg\"\n",
    "    colors_find_cluster = [(0,0,0)] * 25\n",
    "    colors_find_cluster[i]=(255,0,0)\n",
    "    print(\"plotting: \", i)\n",
    "    plot_scatter(plot_path, projection_vectors, cluster_labels[indices], colors_find_cluster)"
   ]
  },
  {
   "cell_type": "code",
   "execution_count": null,
   "metadata": {},
   "outputs": [],
   "source": []
  },
  {
   "cell_type": "code",
   "execution_count": null,
   "metadata": {},
   "outputs": [],
   "source": []
  },
  {
   "cell_type": "code",
   "execution_count": null,
   "metadata": {},
   "outputs": [],
   "source": []
  }
 ],
 "metadata": {
  "kernelspec": {
   "display_name": "Python 3",
   "language": "python",
   "name": "python3"
  },
  "language_info": {
   "codemirror_mode": {
    "name": "ipython",
    "version": 3
   },
   "file_extension": ".py",
   "mimetype": "text/x-python",
   "name": "python",
   "nbconvert_exporter": "python",
   "pygments_lexer": "ipython3",
   "version": "3.6.9"
  }
 },
 "nbformat": 4,
 "nbformat_minor": 4
}
