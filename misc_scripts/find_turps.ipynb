{
 "cells": [
  {
   "cell_type": "code",
   "execution_count": 86,
   "metadata": {},
   "outputs": [],
   "source": [
    "import openslide\n",
    "import numpy as np\n",
    "import matplotlib.pyplot as plt\n",
    "import pandas as pd\n",
    "import os\n",
    "import pickle\n",
    "import tqdm\n",
    "import seaborn as sns\n",
    "from collections import Counter\n",
    "\n",
    "import sys\n",
    "sys.path.append(\"../clinical_data_classifier\")\n",
    "from rtog_helper import rtog_from_study_number"
   ]
  },
  {
   "cell_type": "code",
   "execution_count": null,
   "metadata": {},
   "outputs": [],
   "source": [
    "tissue_path = \"/export/medical_ai/ucsf/tissue_vs_non_pkl/v2/{}/\"\n",
    "slide_path = \"/export/medical_ai/ucsf/{}/svs/\"\n",
    "datasets = ['RTOG-9202', 'RTOG-9408', 'RTOG-9413', 'RTOG-9910','RTOG-0126']"
   ]
  },
  {
   "cell_type": "code",
   "execution_count": 80,
   "metadata": {},
   "outputs": [],
   "source": [
    "case_class_9408 = rtog_from_study_number(\"9408\")\n",
    "case_df_9408 = case_class_9408.df\n",
    "\n",
    "case_class_9413 = rtog_from_study_number(\"9413\")\n",
    "case_df_9413 = case_class_9413.df\n",
    "\n",
    "case_class_9202 = rtog_from_study_number(\"9202\")\n",
    "case_df_9202 = case_class_9202.df\n",
    "\n",
    "case_class_9910 = rtog_from_study_number(\"9910\")\n",
    "case_df_9910 = case_class_9910.df\n",
    "\n",
    "case_class_0126 = rtog_from_study_number(\"0126\")\n",
    "case_df_0126 = case_class_0126.df\n",
    "\n",
    "case_df_dict = {\"RTOG-0126\": case_df_0126, \"RTOG-9910\": case_df_9910, \"RTOG-9202\": case_df_9202, \"RTOG-9413\": case_df_9413, \"RTOG-9408\": case_df_9408,}"
   ]
  },
  {
   "cell_type": "code",
   "execution_count": 75,
   "metadata": {},
   "outputs": [],
   "source": [
    "slide_df_path = \"/export/home/rtog_dfs/\"\n",
    "slide_df_9408 = pd.read_csv(slide_df_path + \"9408.csv\")\n",
    "slide_df_9413 = pd.read_csv(slide_df_path + \"9413.csv\")\n",
    "slide_df_9202 = pd.read_csv(slide_df_path + \"9202.csv\")\n",
    "slide_df_9910 = pd.read_csv(slide_df_path + \"9910.csv\")\n",
    "slide_df_0126 = pd.read_csv(slide_df_path + \"0126.csv\")\n",
    "slide_df_dict = {\"RTOG-0126\": slide_df_0126, \"RTOG-9910\": slide_df_9910, \"RTOG-9202\": slide_df_9202, \"RTOG-9413\": slide_df_9413, \"RTOG-9408\": slide_df_9408,}"
   ]
  },
  {
   "cell_type": "code",
   "execution_count": 13,
   "metadata": {},
   "outputs": [
    {
     "data": {
      "text/plain": [
       "482"
      ]
     },
     "execution_count": 13,
     "metadata": {},
     "output_type": "execute_result"
    }
   ],
   "source": [
    "dataset = \"RTOG-0126\"\n",
    "ds_tissue_path = tissue_path.format(dataset)\n",
    "ds_slide_path = slide_path.format(dataset)\n",
    "slides= os.listdir(ds_tissue_path)\n",
    "len(slides)"
   ]
  },
  {
   "cell_type": "code",
   "execution_count": 54,
   "metadata": {},
   "outputs": [
    {
     "name": "stderr",
     "output_type": "stream",
     "text": [
      "100%|██████████| 3149/3149 [00:11<00:00, 281.71it/s]\n",
      "100%|██████████| 5063/5063 [00:15<00:00, 322.67it/s]\n",
      "100%|██████████| 2066/2066 [00:08<00:00, 239.63it/s]\n",
      "100%|██████████| 2121/2121 [00:06<00:00, 333.98it/s]\n",
      "100%|██████████| 482/482 [00:01<00:00, 416.41it/s]\n"
     ]
    }
   ],
   "source": [
    "# It turns out that the % of tissue in a slide is a great indicator of whether it is a TURPS biopsy or not. \n",
    "def get_percentages(tissue_path, slides):\n",
    "    percentages = []\n",
    "    for slide in tqdm.tqdm(slides):\n",
    "        df = pickle.load(open(tissue_path + slide, \"rb\"))\n",
    "        if len(df) == 0:\n",
    "            continue\n",
    "        labels = list(df.tissue_vs_non)\n",
    "        percentage = sum(labels) / len(labels)\n",
    "        percentages += [(percentage, slide, sum(labels), len(labels))]\n",
    "    return sorted(percentages, reverse=True)\n",
    "percentages = {x:get_percentages(tissue_path.format(x), os.listdir(tissue_path.format(x))) for x in datasets}"
   ]
  },
  {
   "cell_type": "code",
   "execution_count": null,
   "metadata": {},
   "outputs": [],
   "source": []
  },
  {
   "cell_type": "code",
   "execution_count": 5,
   "metadata": {
    "scrolled": true
   },
   "outputs": [],
   "source": [
    "def get_thumbnail(filename, study):\n",
    "    slide_name = filename.split(\".\")[0] + \".svs\"\n",
    "    slide = openslide.open_slide(slide_path.format(study) + slide_name)\n",
    "    img = slide.get_thumbnail((100,100))\n",
    "    return img\n",
    "\n",
    "def plot_thumbnails(percentages, study, interval=10):\n",
    "    percentages = percentages[study]\n",
    "    for percentage, slide_name, _, _ in percentages[::interval]:\n",
    "        img = get_thumbnail(slide_name, study)\n",
    "        plt.imshow(np.array(img))\n",
    "        plt.title(str(round(percentage,4)))\n",
    "        plt.show()\n",
    "plot_thumbnails(percentages, \"RTOG-0126\")"
   ]
  },
  {
   "cell_type": "code",
   "execution_count": 4,
   "metadata": {},
   "outputs": [],
   "source": [
    "plot_thumbnails(percentages, \"RTOG-9910\")"
   ]
  },
  {
   "cell_type": "code",
   "execution_count": 3,
   "metadata": {},
   "outputs": [],
   "source": [
    "plot_thumbnails(percentages,\"RTOG-9413\")"
   ]
  },
  {
   "cell_type": "code",
   "execution_count": 2,
   "metadata": {},
   "outputs": [],
   "source": [
    "plot_thumbnails(percentages, \"RTOG-9408\", 10)"
   ]
  },
  {
   "cell_type": "code",
   "execution_count": 1,
   "metadata": {},
   "outputs": [],
   "source": [
    "plot_thumbnails(percentages, \"RTOG-9202\")"
   ]
  },
  {
   "cell_type": "code",
   "execution_count": null,
   "metadata": {},
   "outputs": [],
   "source": []
  },
  {
   "cell_type": "code",
   "execution_count": 39,
   "metadata": {},
   "outputs": [
    {
     "data": {
      "image/png": "[encoded data removed]",
      "text/plain": [
       "<Figure size 432x288 with 1 Axes>"
      ]
     },
     "metadata": {
      "needs_background": "light"
     },
     "output_type": "display_data"
    },
    {
     "data": {
      "image/png": "[encoded data removed]",
      "text/plain": [
       "<Figure size 432x288 with 1 Axes>"
      ]
     },
     "metadata": {
      "needs_background": "light"
     },
     "output_type": "display_data"
    },
    {
     "data": {
      "image/png": "[encoded data removed]",
      "text/plain": [
       "<Figure size 432x288 with 1 Axes>"
      ]
     },
     "metadata": {
      "needs_background": "light"
     },
     "output_type": "display_data"
    },
    {
     "data": {
      "image/png": "[encoded data removed]",
      "text/plain": [
       "<Figure size 432x288 with 1 Axes>"
      ]
     },
     "metadata": {
      "needs_background": "light"
     },
     "output_type": "display_data"
    },
    {
     "data": {
      "image/png": "[encoded data removed]",
      "text/plain": [
       "<Figure size 432x288 with 1 Axes>"
      ]
     },
     "metadata": {
      "needs_background": "light"
     },
     "output_type": "display_data"
    }
   ],
   "source": [
    "for study, study_percentages in percentages.items():\n",
    "#     sns.histplot([x[0] for x in study_percentages], bins=100, binwidth=0.01)\n",
    "    plt.hist([x[0] for x in study_percentages], range=(0,1), bins=100)\n",
    "    plt.title(study)\n",
    "    plt.ylabel(\"counts\")\n",
    "    plt.xlabel(\"% of slide tissue\")\n",
    "    plt.show()"
   ]
  },
  {
   "cell_type": "code",
   "execution_count": 106,
   "metadata": {},
   "outputs": [
    {
     "name": "stdout",
     "output_type": "stream",
     "text": [
      "RTOG-9202\n",
      "total tissue patches: 2,169,803, of which 815,615 in TURPS slides.\n",
      "Percentage of tissue patches in turps: 37.6%\n",
      "total slides: 3132, turps slides: 226, percentage of slides from TURPS: 7.2\n",
      "TURPS slides per patient: 3.7, non-turp slides per patient: 2.99\n",
      "\n",
      "RTOG-9408\n",
      "total tissue patches: 2,129,712, of which 579,621 in TURPS slides.\n",
      "Percentage of tissue patches in turps: 27.2%\n",
      "total slides: 5055, turps slides: 147, percentage of slides from TURPS: 2.9\n",
      "TURPS slides per patient: 2.88, non-turp slides per patient: 3.72\n",
      "\n",
      "RTOG-9413\n",
      "total tissue patches: 1,355,434, of which 358,904 in TURPS slides.\n",
      "Percentage of tissue patches in turps: 26.5%\n",
      "total slides: 2065, turps slides: 93, percentage of slides from TURPS: 4.5\n",
      "TURPS slides per patient: 4.23, non-turp slides per patient: 3.07\n",
      "\n",
      "RTOG-9910\n",
      "total tissue patches: 786,148, of which 88,864 in TURPS slides.\n",
      "Percentage of tissue patches in turps: 11.3%\n",
      "total slides: 2121, turps slides: 26, percentage of slides from TURPS: 1.2\n",
      "TURPS slides per patient: 2.0, non-turp slides per patient: 2.94\n",
      "\n",
      "RTOG-0126\n",
      "total tissue patches: 120,816, of which 15,021 in TURPS slides.\n",
      "Percentage of tissue patches in turps: 12.4%\n",
      "total slides: 482, turps slides: 3, percentage of slides from TURPS: 0.6\n",
      "TURPS slides per patient: 1.0, non-turp slides per patient: 1.83\n",
      "\n"
     ]
    }
   ],
   "source": [
    "def get_gleason_scores(patients, case_df):\n",
    "    gleason_scores = []\n",
    "    for patient in patients:\n",
    "        patient_df = case_df.loc[case_df.cn_deidentified == patient]\n",
    "        gleason_scores += list(patient_df.gleason_primary)\n",
    "    return gleason_scores\n",
    "\n",
    "for study, study_percentages in percentages.items():\n",
    "    total_patches = sum([x[2] for x in study_percentages])\n",
    "    turps_patches = sum([x[2] if x[0] > 0.3 else 0 for x in study_percentages])\n",
    "    turps_slides = sum([x[0] > 0.3 for x in study_percentages])\n",
    "    total_slides = len(study_percentages)\n",
    "    \n",
    "    study_slide_df = slide_df_dict[study]\n",
    "    turp_patients = []\n",
    "    normal_patients = []\n",
    "    for percentage, slide, _, _ in study_percentages:\n",
    "        patient_df = study_slide_df.loc[study_slide_df.image_id == slide]\n",
    "        if percentage > 0.3:\n",
    "            turp_patients += [list(patient_df.cn_deidentified)][0]\n",
    "        else:\n",
    "            normal_patients += [list(patient_df.cn_deidentified)][0]\n",
    "    turp_patients = list(set(turp_patients))        \n",
    "    normal_patients = list(set(normal_patients))        \n",
    "    turp_gleason = get_gleason_scores(turp_patients, case_df_dict[study])\n",
    "    normal_gleason = get_gleason_scores(normal_patients, case_df_dict[study])\n",
    "    \n",
    "    \n",
    "    \n",
    "    print(study)\n",
    "    print(\"total tissue patches: {:,}, of which {:,} in TURPS slides.\".format(total_patches, turps_patches))\n",
    "    print(\"Percentage of tissue patches in turps: {}%\".format(round(turps_patches/total_patches*100,1)))\n",
    "    print(\"total slides: {}, turps slides: {}, percentage of slides from TURPS: {}\".format(total_slides, turps_slides, round(turps_slides/total_slides*100,1)))\n",
    "    print(\"TURPS slides per patient: {}, non-turp slides per patient: {}\".format((round(turps_slides/len(turp_patients),2)), round((total_slides - turps_slides) / len(normal_patients),2)))\n",
    "#     print(sorted(Counter(turp_gleason).items(), reverse=True))\n",
    "#     plt.hist(normal_gleason)\n",
    "#     plt.hist(turp_gleason)\n",
    "\n",
    "    plt.show()\n",
    "    print()\n",
    "    \n",
    "            "
   ]
  },
  {
   "cell_type": "code",
   "execution_count": 10,
   "metadata": {},
   "outputs": [],
   "source": [
    "to_label_9202 = [x[1] for x in percentages[\"RTOG-9202\"] if x[0]>0.25]\n",
    "\n",
    "annotations_9202 = annotate(\n",
    "  to_label_9202,\n",
    "  options=['TURPS', 'normal'],\n",
    "  display_fn=lambda filename: display(get_thumbnail(filename, \"RTOG-9202\").resize((300,300)))\n",
    ")"
   ]
  },
  {
   "cell_type": "code",
   "execution_count": 9,
   "metadata": {},
   "outputs": [],
   "source": [
    "to_label_9408 = [x[1] for x in percentages[\"RTOG-9408\"] if x[0] > 0.22]\n",
    "\n",
    "annotations_9408 = annotate(\n",
    "  to_label_9408,\n",
    "  options=['TURPS', 'normal'],\n",
    "  display_fn=lambda filename: display(get_thumbnail(filename, \"RTOG-9408\").resize((300,300)))\n",
    ")"
   ]
  },
  {
   "cell_type": "code",
   "execution_count": 8,
   "metadata": {},
   "outputs": [],
   "source": [
    "to_label_9413 = [x[1] for x in percentages[\"RTOG-9413\"] if x[0]>0.22]\n",
    "\n",
    "annotations_9413 = annotate(\n",
    "  to_label_9413,\n",
    "  options=['TURPS', 'normal'],\n",
    "  display_fn=lambda filename: display(get_thumbnail(filename, \"RTOG-9413\").resize((300,300)))\n",
    ")"
   ]
  },
  {
   "cell_type": "code",
   "execution_count": 6,
   "metadata": {},
   "outputs": [],
   "source": [
    "to_label_9910 = [x[1] for x in percentages[\"RTOG-9910\"] if x[0]>0.22]\n",
    "\n",
    "annotations_9910 = annotate(\n",
    "  to_label_9910,\n",
    "  options=['TURPS', 'normal'],\n",
    "  display_fn=lambda filename: display(get_thumbnail(filename, \"RTOG-9910\").resize((300,300)))\n",
    ")"
   ]
  },
  {
   "cell_type": "code",
   "execution_count": 7,
   "metadata": {},
   "outputs": [],
   "source": [
    "to_label_0126 = [x[1] for x in percentages[\"RTOG-0126\"] if x[0]>0.22]\n",
    "\n",
    "annotations_0126 = annotate(\n",
    "  to_label_0126,\n",
    "  options=['TURPS', 'normal'],\n",
    "  display_fn=lambda filename: display(get_thumbnail(filename, \"RTOG-0126\").resize((300,300)))\n",
    ")"
   ]
  },
  {
   "cell_type": "code",
   "execution_count": 129,
   "metadata": {},
   "outputs": [
    {
     "data": {
      "text/html": [
       "<div>\n",
       "<style scoped>\n",
       "    .dataframe tbody tr th:only-of-type {\n",
       "        vertical-align: middle;\n",
       "    }\n",
       "\n",
       "    .dataframe tbody tr th {\n",
       "        vertical-align: top;\n",
       "    }\n",
       "\n",
       "    .dataframe thead th {\n",
       "        text-align: right;\n",
       "    }\n",
       "</style>\n",
       "<table border=\"1\" class=\"dataframe\">\n",
       "  <thead>\n",
       "    <tr style=\"text-align: right;\">\n",
       "      <th></th>\n",
       "      <th>example</th>\n",
       "      <th>changed</th>\n",
       "      <th>label</th>\n",
       "    </tr>\n",
       "  </thead>\n",
       "  <tbody>\n",
       "    <tr>\n",
       "      <th>0</th>\n",
       "      <td>115255.pkl</td>\n",
       "      <td>True</td>\n",
       "      <td>TURPS</td>\n",
       "    </tr>\n",
       "    <tr>\n",
       "      <th>1</th>\n",
       "      <td>114980.pkl</td>\n",
       "      <td>True</td>\n",
       "      <td>TURPS</td>\n",
       "    </tr>\n",
       "    <tr>\n",
       "      <th>2</th>\n",
       "      <td>115001.pkl</td>\n",
       "      <td>True</td>\n",
       "      <td>TURPS</td>\n",
       "    </tr>\n",
       "  </tbody>\n",
       "</table>\n",
       "</div>"
      ],
      "text/plain": [
       "      example  changed  label\n",
       "0  115255.pkl     True  TURPS\n",
       "1  114980.pkl     True  TURPS\n",
       "2  115001.pkl     True  TURPS"
      ]
     },
     "execution_count": 129,
     "metadata": {},
     "output_type": "execute_result"
    }
   ],
   "source": [
    "annotations_0126"
   ]
  },
  {
   "cell_type": "code",
   "execution_count": 136,
   "metadata": {},
   "outputs": [],
   "source": [
    "unlabelled_0126 = [x[1] for x in percentages[\"RTOG-0126\"] if x[0]<=0.22]\n",
    "unlabelled_9408 = [x[1] for x in percentages[\"RTOG-9408\"] if x[0]<=0.22]\n",
    "unlabelled_9413 = [x[1] for x in percentages[\"RTOG-9413\"] if x[0]<=0.22]\n",
    "unlabelled_9910 = [x[1] for x in percentages[\"RTOG-9910\"] if x[0]<=0.22]\n",
    "unlabelled_9202 = [x[1] for x in percentages[\"RTOG-9202\"] if x[0]<=0.25]\n",
    "\n"
   ]
  },
  {
   "cell_type": "code",
   "execution_count": 142,
   "metadata": {},
   "outputs": [],
   "source": [
    "save_dir=\"/export/home/rtog_TURPS/\"\n",
    "\n",
    "def save_unlabelled_df(unlabelled_data, annotations, save_path):\n",
    "    unlabelled_df =  pd.DataFrame(data={\"example\":unlabelled_data, \"changed\":[False]*len(unlabelled_data), \"label\":[\"normal\"]*len(unlabelled_data)})\n",
    "    df = pd.concat([annotations, unlabelled_df], ignore_index=True)\n",
    "    df.to_csv(save_path)\n",
    "    return df\n",
    "test_df = save_unlabelled_df(unlabelled_0126, annotations_0126, save_dir + \"RTOG-0126.csv\")\n",
    "test_df = save_unlabelled_df(unlabelled_9910, annotations_9910, save_dir + \"RTOG-9910.csv\")\n",
    "test_df = save_unlabelled_df(unlabelled_9408, annotations_9408, save_dir + \"RTOG-9408.csv\")\n",
    "test_df = save_unlabelled_df(unlabelled_9413, annotations_9413, save_dir + \"RTOG-9413.csv\")\n",
    "test_df = save_unlabelled_df(unlabelled_9202, annotations_9202, save_dir + \"RTOG-9202.csv\")"
   ]
  },
  {
   "cell_type": "code",
   "execution_count": null,
   "metadata": {},
   "outputs": [],
   "source": []
  },
  {
   "cell_type": "code",
   "execution_count": null,
   "metadata": {},
   "outputs": [],
   "source": []
  }
 ],
 "metadata": {
  "kernelspec": {
   "display_name": "Python 3",
   "language": "python",
   "name": "python3"
  },
  "language_info": {
   "codemirror_mode": {
    "name": "ipython",
    "version": 3
   },
   "file_extension": ".py",
   "mimetype": "text/x-python",
   "name": "python",
   "nbconvert_exporter": "python",
   "pygments_lexer": "ipython3",
   "version": "3.6.9"
  }
 },
 "nbformat": 4,
 "nbformat_minor": 4
}
