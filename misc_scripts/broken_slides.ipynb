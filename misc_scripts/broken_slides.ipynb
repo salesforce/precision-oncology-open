{
 "cells": [
  {
   "cell_type": "code",
   "execution_count": 1,
   "metadata": {},
   "outputs": [],
   "source": [
    "import os"
   ]
  },
  {
   "cell_type": "code",
   "execution_count": 3,
   "metadata": {},
   "outputs": [],
   "source": [
    "# find what slides we have and for which the tissue classifier found patches\n",
    "study = \"0126\"\n",
    "patch_folder_path = \"/export/medical_ai/ucsf/RTOG-{}/patches/patches_256_patchsize_224_resize_0_overlap_3_level/\".format(study)\n",
    "patch_folders = os.listdir(\"/export/medical_ai/ucsf/RTOG-{}/patches/patches_256_patchsize_224_resize_0_overlap_3_level/\".format(study))\n",
    "tissue_pickle_path = \"/export/medical_ai/ucsf/tissue_vs_non_pkl/v2/RTOG-{}/\".format(study)\n",
    "tissue_pickles = os.listdir(tissue_pickle_path)\n",
    "slide_folder = \"/export/medical_ai/ucsf/RTOG-{}/svs/\".format(study)\n",
    "tissue_pickles = [x[:-4] for x in tissue_pickles]\n"
   ]
  },
  {
   "cell_type": "code",
   "execution_count": 4,
   "metadata": {},
   "outputs": [
    {
     "name": "stdout",
     "output_type": "stream",
     "text": [
      "0 []\n"
     ]
    }
   ],
   "source": [
    "# find slides that have no patches\n",
    "missing = []\n",
    "for x in patch_folders:\n",
    "    if x not in tissue_pickles:\n",
    "        missing += [x]\n",
    "print(len(missing), missing)"
   ]
  },
  {
   "cell_type": "code",
   "execution_count": 71,
   "metadata": {},
   "outputs": [
    {
     "name": "stdout",
     "output_type": "stream",
     "text": [
      "/export/medical_ai/ucsf/RTOG-0126/svs/116260.svs, 79417689\n",
      "/export/medical_ai/ucsf/RTOG-0126/svs/117788.svs, 79484325\n"
     ]
    }
   ],
   "source": [
    "# for the missing slides, check if the file is broken by checking the size\n",
    "for x in missing:\n",
    "    num_patches = os.listdir(patch_folder_path + x)\n",
    "    print(slide_folder + x + \".svs,\", os.path.getsize(slide_folder + \"/\" + x + \".svs\"))\n"
   ]
  },
  {
   "cell_type": "code",
   "execution_count": 68,
   "metadata": {},
   "outputs": [
    {
     "name": "stdout",
     "output_type": "stream",
     "text": [
      "0\t/export/medical_ai/ucsf/box_data/Aperio Images of NRG GU H&E Slides/RTOG-9202/12.8.2020/103862.svs\r\n"
     ]
    }
   ],
   "source": [
    "!du -hs '/export/medical_ai/ucsf/box_data/Aperio Images of NRG GU H&E Slides/RTOG-9202/12.8.2020/103862.svs'"
   ]
  },
  {
   "cell_type": "markdown",
   "metadata": {},
   "source": [
    "## no tissue found\n",
    "all patches have been classified as non tissue"
   ]
  },
  {
   "cell_type": "code",
   "execution_count": 34,
   "metadata": {},
   "outputs": [],
   "source": [
    "\n",
    "import pandas as pd\n",
    "no_tissue = []\n",
    "for pickle in tissue_pickles:\n",
    "    df = pd.read_pickle(tissue_pickle_path + \"/\" + pickle + \".pkl\")\n",
    "    df = df.loc[df.tissue_vs_non]\n",
    "    if len(df) == 0:\n",
    "        no_tissue += [pickle]\n"
   ]
  },
  {
   "cell_type": "code",
   "execution_count": 35,
   "metadata": {},
   "outputs": [
    {
     "name": "stdout",
     "output_type": "stream",
     "text": [
      "110680\n",
      "110681\n",
      "110682\n",
      "110728\n",
      "110730\n",
      "110740\n",
      "111978\n",
      "112466\n",
      "112467\n",
      "112600\n",
      "112611\n",
      "112695\n",
      "112736\n",
      "116604\n",
      "116605\n"
     ]
    }
   ],
   "source": [
    "for x in sorted(no_tissue):\n",
    "    print(x)"
   ]
  },
  {
   "cell_type": "code",
   "execution_count": 44,
   "metadata": {},
   "outputs": [
    {
     "name": "stdout",
     "output_type": "stream",
     "text": [
      "RTOG-0126 436128\n",
      "RTOG-9413 1355434\n",
      "RTOG-9202 2169803\n",
      "RTOG-9408 2134590\n",
      "RTOG-9910 950421\n",
      "7046376\n"
     ]
    }
   ],
   "source": [
    "# total number of tissue patches\n",
    "import pickle\n",
    "tissue_dir = \"/export/medical_ai/ucsf/tissue_vs_non_pkl/v2/\"\n",
    "study_folders = os.listdir(tissue_dir)\n",
    "dataset_total = 0 \n",
    "for study_folder in study_folders:\n",
    "    total_imgs = 0\n",
    "    files = os.listdir(tissue_dir +study_folder)\n",
    "    for file in files:\n",
    "        df = pickle.load(open(tissue_dir + study_folder + \"/\" + file,\"rb\"))\n",
    "        df = df.loc[df.tissue_vs_non]\n",
    "        total_imgs += len(df)\n",
    "    dataset_total += total_imgs\n",
    "    print(study_folder, total_imgs)\n",
    "    \n",
    "print(dataset_total)"
   ]
  },
  {
   "cell_type": "code",
   "execution_count": null,
   "metadata": {},
   "outputs": [],
   "source": []
  }
 ],
 "metadata": {
  "kernelspec": {
   "display_name": "Python 3",
   "language": "python",
   "name": "python3"
  },
  "language_info": {
   "codemirror_mode": {
    "name": "ipython",
    "version": 3
   },
   "file_extension": ".py",
   "mimetype": "text/x-python",
   "name": "python",
   "nbconvert_exporter": "python",
   "pygments_lexer": "ipython3",
   "version": "3.6.9"
  }
 },
 "nbformat": 4,
 "nbformat_minor": 4
}
