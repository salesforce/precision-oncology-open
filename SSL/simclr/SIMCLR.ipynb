{
 "cells": [
  {
   "cell_type": "code",
   "execution_count": 14,
   "metadata": {},
   "outputs": [
    {
     "name": "stdout",
     "output_type": "stream",
     "text": [
      "The autoreload extension is already loaded. To reload it, use:\n",
      "  %reload_ext autoreload\n"
     ]
    }
   ],
   "source": [
    "%load_ext autoreload\n",
    "%autoreload 2\n",
    "import sys\n",
    "import os\n",
    "import argparse\n",
    "import logging\n",
    "import shutil\n",
    "import re\n",
    "from PIL import Image\n",
    "from skimage import io\n",
    "import matplotlib.pyplot as plt\n",
    "import numpy as np\n",
    "import pandas as pd\n",
    "from auto_tqdm import tqdm\n",
    "import torch\n",
    "import torch.nn.functional as F\n",
    "import torchvision.models as models\n",
    "import torch.optim as optim\n",
    "from torchvision.datasets import VisionDataset\n",
    "from torchvision import transforms\n",
    "import torch.backends.cudnn as cudnn\n",
    "from torch.utils.data import DataLoader\n",
    "from sklearn.model_selection import train_test_split\n",
    "from sklearn.linear_model import LogisticRegression\n",
    "from sklearn.model_selection import cross_val_score\n",
    "\n",
    "from utils import *\n",
    "import augmentations\n",
    "%matplotlib inline\n",
    "\n",
    "DATA_DIR = '/data/amiratag/prostate'\n",
    "MEM_DIR = '/home/amiratag/Projects/Prostate'"
   ]
  },
  {
   "cell_type": "markdown",
   "metadata": {},
   "source": [
    "Functions"
   ]
  },
  {
   "cell_type": "code",
   "execution_count": null,
   "metadata": {},
   "outputs": [],
   "source": [
    "def eval(args, model, eval_loader, num_eval_batches=None):\n",
    "    \n",
    "    if num_eval_batches is None:\n",
    "        num_eval_batches = len(eval_loader)\n",
    "    model.eval()\n",
    "    counter = 0\n",
    "    loss = 0\n",
    "    total = 0\n",
    "    with torch.no_grad():\n",
    "        for batch_idx, images in enumerate(eval_loader):\n",
    "            images = torch.cat(images, dim=0)\n",
    "            images = images.to(args.device)\n",
    "            features = model(images)\n",
    "            logits, labels = simclr_criterion(args, features)\n",
    "            loss += torch.nn.CrossEntropyLoss().to(args.device)(logits, labels).item()\n",
    "            total += 1\n",
    "            counter += 1\n",
    "            if counter >= num_eval_batches:\n",
    "                break\n",
    "    loss /= total\n",
    "    eval_data = dict(loss=loss)\n",
    "    return eval_data\n",
    "\n",
    "def simclr_criterion(args, features):\n",
    "    \n",
    "    labels = torch.cat([torch.arange(args.batch_size) for i in range(args.n_views)],\n",
    "                   dim=0)\n",
    "    labels = (labels.unsqueeze(0) == labels.unsqueeze(1)).float().to(args.device)\n",
    "    features = F.normalize(features, dim=1)\n",
    "    similarity_matrix = torch.matmul(features, features.T)\n",
    "    mask = torch.eye(labels.shape[0], dtype=torch.bool).to(args.device)\n",
    "    labels = labels[~mask].view(labels.shape[0], -1)\n",
    "    similarity_matrix = similarity_matrix[~mask].view(similarity_matrix.shape[0], -1)\n",
    "    positives = similarity_matrix[labels.bool()].view(labels.shape[0], -1)\n",
    "    negatives = similarity_matrix[~labels.bool()].view(similarity_matrix.shape[0], -1)\n",
    "    logits = torch.cat([positives, negatives], dim=1)\n",
    "    labels = torch.zeros(logits.shape[0], dtype=torch.long).to(args.device)\n",
    "    logits = logits / args.temperature\n",
    "    \n",
    "    return logits, labels\n",
    "\n",
    "def train(args, model, train_loader, optimizer, epoch, epoch_size=None):\n",
    "    \n",
    "    if epoch_size is None:\n",
    "        epoch_size = len(train_loader)\n",
    "    model.train()\n",
    "    train_metrics = []\n",
    "    counter = 0\n",
    "    for batch_idx, images in enumerate(train_loader):\n",
    "        images = torch.cat(images, dim=0)\n",
    "        images = images.to(args.device)\n",
    "        features = model(images)\n",
    "        logits, labels = simclr_criterion(args, features)\n",
    "        loss = torch.nn.CrossEntropyLoss().to(args.device)(logits, labels)\n",
    "        optimizer.zero_grad()\n",
    "        loss.backward()\n",
    "        optimizer.step()\n",
    "        \n",
    "        train_metrics.append(dict(\n",
    "            epoch=epoch,\n",
    "            loss=loss.item()))\n",
    "        # print progress\n",
    "        if batch_idx % args.log_interval == 0:\n",
    "            logging.info(\n",
    "                'Train Epoch: {} [{}/{} ({:.0f}%)]\\tLoss: {:.6f}'.format(\n",
    "                    epoch, batch_idx * len(images), epoch_size * args.batch_size,\n",
    "                           100. * batch_idx / epoch_size, loss.item()))\n",
    "        counter += 1\n",
    "        if counter >= epoch_size:\n",
    "            break\n",
    "    return train_metrics"
   ]
  },
  {
   "cell_type": "markdown",
   "metadata": {},
   "source": [
    "Arguments"
   ]
  },
  {
   "cell_type": "code",
   "execution_count": 2,
   "metadata": {},
   "outputs": [],
   "source": [
    "parser = argparse.ArgumentParser(\n",
    "    description='PyTorch TRADES Adversarial Training')\n",
    "\n",
    "\n",
    "parser.add_argument('--model_dir', default='./simclr/translationrotation',\n",
    "                    help='Directory of model for saving checkpoint')\n",
    "parser.add_argument('--overwrite', action='store_true', default=False,\n",
    "                    help='Cancels the run if an appropriate checkpoint is found')\n",
    "\n",
    "# Logging and checkpointing\n",
    "parser.add_argument('--log_interval', type=int, default=100,\n",
    "                    help='Number of batches between logging of training status')\n",
    "parser.add_argument('--save_freq', default=1, type=int,\n",
    "                    help='Checkpoint save frequency (in epochs)')\n",
    "\n",
    "# Generic training configs\n",
    "parser.add_argument('--seed', type=int, default=1,\n",
    "                    help='Random seed. '\n",
    "                         'Note: fixing the random seed does not give complete '\n",
    "                         'reproducibility. See '\n",
    "                         'https://pytorch.org/docs/stable/notes/randomness.html')\n",
    "parser.add_argument('--batch_size', type=int, default=128, metavar='N',\n",
    "                    help='Input batch size for training (default: 128)')\n",
    "parser.add_argument('--epochs', type=int, default=150, metavar='N',\n",
    "                    help='Number of epochs to train. '\n",
    "                         'Note: we arbitrarily define an epoch as a pass '\n",
    "                         'through 50K datapoints. This is convenient for '\n",
    "                         'comparison with standard CIFAR-10 training '\n",
    "                         'configurations.')\n",
    "parser.add_argument('--eval_freq', default=5, type=int,\n",
    "                    help='Eval frequency (in epochs)')\n",
    "parser.add_argument('--weight_decay', '--wd', default=1e-4, type=float)\n",
    "parser.add_argument('--lr', type=float, default=0.05, metavar='LR',\n",
    "                    help='Learning rate')\n",
    "parser.add_argument('--lr_schedule', type=str, default='cosine',\n",
    "                    choices=('trades', 'trades_fixed', 'cosine', 'wrn'),\n",
    "                    help='Learning rate schedule')\n",
    "parser.add_argument('--momentum', type=float, default=0.9, metavar='M',\n",
    "                    help='SGD momentum')\n",
    "parser.add_argument('--nesterov', action='store_true', default=True,\n",
    "                    help='Use extragrdient steps')\n",
    "parser.add_argument('--balanced', action='store_true', default=True,\n",
    "                    help='Use balanced dataset')\n",
    "parser.add_argument('--n_views', type=int, default=2,\n",
    "                    help='Number of views in the contrastive learning')\n",
    "parser.add_argument('--base_model', type=str, default='resnet34',\n",
    "                    help='Use balanced dataset')\n",
    "parser.add_argument('--out_dim', type=int, default=128,\n",
    "                    help='Feature dimensionality')\n",
    "parser.add_argument('--temperature', type=float, default=0.07,\n",
    "                    help='Softmax temperature')\n",
    "\n",
    "\n",
    "args = parser.parse_args('')"
   ]
  },
  {
   "cell_type": "code",
   "execution_count": 3,
   "metadata": {},
   "outputs": [
    {
     "name": "stderr",
     "output_type": "stream",
     "text": [
      "2021-03-01 10:22:29,377 | Robust self-training\n",
      "2021-03-01 10:22:29,378 | Args: Namespace(balanced=True, base_model='resnet34', batch_size=128, epochs=150, eval_freq=5, log_interval=100, lr=0.05, lr_schedule='cosine', model_dir='./simclr/translationrotation', momentum=0.9, n_views=2, nesterov=True, out_dim=128, overwrite=False, save_freq=1, seed=1, temperature=0.07, weight_decay=0.0001)\n"
     ]
    }
   ],
   "source": [
    "if args.overwrite:\n",
    "    shutil.rmtree(args.model_dir)\n",
    "if not os.path.exists(args.model_dir):\n",
    "    os.makedirs(args.model_dir)\n",
    "logging.basicConfig(\n",
    "    level=logging.INFO,\n",
    "    format=\"%(asctime)s | %(message)s\",\n",
    "    handlers=[\n",
    "        logging.FileHandler(os.path.join(args.model_dir, 'training.log')),\n",
    "        logging.StreamHandler()\n",
    "    ])\n",
    "logger = logging.getLogger()\n",
    "\n",
    "logging.info('Robust self-training')\n",
    "logging.info('Args: %s', args)"
   ]
  },
  {
   "cell_type": "code",
   "execution_count": 4,
   "metadata": {},
   "outputs": [],
   "source": [
    "args.balanced = False"
   ]
  },
  {
   "cell_type": "markdown",
   "metadata": {},
   "source": [
    "Load dataset"
   ]
  },
  {
   "cell_type": "code",
   "execution_count": 6,
   "metadata": {},
   "outputs": [],
   "source": [
    "## We assume background has already been removed, therefore we don't load class 0\n",
    "classes = np.arange(1, 6).astype(str)\n",
    "paths, labels = [], []\n",
    "for cls in classes:\n",
    "    new_paths = os.listdir(os.path.join(DATA_DIR, 'patches', cls))\n",
    "    paths.extend([os.path.join(DATA_DIR, 'patches', cls, i) for i in new_paths])\n",
    "    labels.extend([int(cls)] * len(new_paths))\n",
    "paths, labels = np.array(paths), np.array(labels)\n",
    "X_train, X_val, y_train, y_val = train_test_split(\n",
    "    paths, labels, test_size=0.1, stratify=labels, random_state=0)\n",
    "if args.balanced:\n",
    "    X_train, y_train = balanced_dataset(X_train, y_train, min_size=3000000)\n",
    "    X_val, y_val = balanced_dataset(X_val, y_val, min_size=300000)"
   ]
  },
  {
   "cell_type": "code",
   "execution_count": 7,
   "metadata": {},
   "outputs": [],
   "source": [
    "cudnn.benchmark = True\n",
    "use_cuda = torch.cuda.is_available()\n",
    "torch.manual_seed(args.seed)\n",
    "args.device = torch.device('cuda') if use_cuda else 'cpu'"
   ]
  },
  {
   "cell_type": "code",
   "execution_count": 8,
   "metadata": {},
   "outputs": [],
   "source": [
    "s = 1\n",
    "color_jitter = transforms.ColorJitter(0.2, 0.2, 0.1, 0.2)\n",
    "simclr_transforms = transforms.Compose([\n",
    "        augmentations.TranslateRotate(30, 30, size=224),\n",
    "        transforms.RandomHorizontalFlip(),\n",
    "        transforms.RandomVerticalFlip(),\n",
    "        transforms.RandomResizedCrop(size=224, scale=(0.5, 1.5), ratio=(0.9, 1.1)),\n",
    "        transforms.RandomApply([color_jitter], p=0.8),\n",
    "        transforms.RandomGrayscale(p=0.05),\n",
    "        augmentations.GaussianBlur(kernel_size=int(0.1 * 224), sigma_min=0.01, sigma_max=1.0),\n",
    "        transforms.ToTensor()\n",
    "    ])"
   ]
  },
  {
   "cell_type": "code",
   "execution_count": 9,
   "metadata": {},
   "outputs": [],
   "source": [
    "dataset = ContrastiveDataset(X_train, args.n_views, simclr_transforms)\n",
    "val_dataset = ContrastiveDataset(X_val, args.n_views, simclr_transforms)\n",
    "kwargs = {'num_workers': 32, 'pin_memory': True} if use_cuda else {}\n",
    "train_loader = DataLoader(dataset, batch_size=args.batch_size, shuffle=True, **kwargs)\n",
    "val_loader = DataLoader(val_dataset, batch_size=args.batch_size, shuffle=False, **kwargs)"
   ]
  },
  {
   "cell_type": "markdown",
   "metadata": {},
   "source": [
    "## Load trained model"
   ]
  },
  {
   "cell_type": "code",
   "execution_count": 11,
   "metadata": {
    "scrolled": true
   },
   "outputs": [
    {
     "name": "stdout",
     "output_type": "stream",
     "text": [
      "resnet34\n"
     ]
    },
    {
     "name": "stderr",
     "output_type": "stream",
     "text": [
      "2021-03-01 10:25:53,549 | Loading checkpoint from epoch #121\n"
     ]
    }
   ],
   "source": [
    "model = ResNetSimCLR(args.base_model, args.out_dim)\n",
    "if use_cuda:\n",
    "    model = torch.nn.DataParallel(model).cuda()\n",
    "optimizer = optim.SGD(model.parameters(), lr=args.lr,\n",
    "                      momentum=args.momentum,\n",
    "                      weight_decay=args.weight_decay,\n",
    "                      nesterov=args.nesterov)\n",
    "init_epoch = 0\n",
    "train_df = pd.DataFrame()\n",
    "eval_df = pd.DataFrame()\n",
    "## Load existing checkpoints and logs\n",
    "checkpoints = [i for i in os.listdir(args.model_dir) if '.pt' in i]\n",
    "checkpoints_epoch_num = [int(re.search('epoch(\\d+)', c).group(1)) for c in checkpoints]\n",
    "if len(checkpoints_epoch_num):\n",
    "    init_epoch = np.max(checkpoints_epoch_num)\n",
    "    checkpoint = torch.load(os.path.join(args.model_dir, 'checkpoint-epoch{}.pt'.format(init_epoch)))\n",
    "    state_dict = checkpoint.get('state_dict', checkpoint)\n",
    "    model.load_state_dict(state_dict)\n",
    "    opt_checkpoint = torch.load(os.path.join(args.model_dir, 'opt-checkpoint_epoch{}.tar'.format(init_epoch)))\n",
    "    optimizer.load_state_dict(opt_checkpoint)\n",
    "    logger.info('Loading checkpoint from epoch #{}'.format(init_epoch))\n",
    "    train_df = pd.read_csv(os.path.join(args.model_dir, 'stats_train.csv'), index_col=0)\n",
    "    train_df.drop(train_df.index[np.arange(init_epoch, len(eval_df))], inplace=True)\n",
    "    eval_df = pd.read_csv(os.path.join(args.model_dir, 'stats_eval.csv'), index_col=0)\n",
    "    eval_df.drop(eval_df.index[np.arange(init_epoch, len(eval_df))], inplace=True)\n",
    "else:\n",
    "    print('No checkpoint found. Random initialization!')"
   ]
  },
  {
   "cell_type": "markdown",
   "metadata": {},
   "source": [
    "Train"
   ]
  },
  {
   "cell_type": "code",
   "execution_count": 12,
   "metadata": {
    "scrolled": true
   },
   "outputs": [],
   "source": [
    "epoch_size = 1000\n",
    "for epoch in range(init_epoch+1, args.epochs + 1):\n",
    "    \n",
    "    lr = adjust_learning_rate(args, optimizer, epoch)\n",
    "    logger.info('Setting learning rate to %g' % lr)\n",
    "    train_data = train(args, model, train_loader, optimizer, epoch, epoch_size=epoch_size)\n",
    "    train_df = train_df.append(pd.DataFrame(train_data), ignore_index=True)\n",
    "\n",
    "    # evaluation on natural examples\n",
    "    logging.info(120 * '=')\n",
    "    if epoch % args.eval_freq == 0 or epoch == args.epochs:\n",
    "        eval_data = {'epoch': int(epoch)}\n",
    "        eval_data.update(\n",
    "            eval(args, model, val_loader, num_eval_batches=100))\n",
    "        eval_df = eval_df.append(pd.Series(eval_data), ignore_index=True)\n",
    "        logging.info(120 * '=')\n",
    "\n",
    "    # save stats\n",
    "    train_df.to_csv(os.path.join(args.model_dir, 'stats_train.csv'))\n",
    "    eval_df.to_csv(os.path.join(args.model_dir, 'stats_eval.csv'))\n",
    "    \n",
    "    if epoch % args.save_freq == 0 or epoch == args.epochs:\n",
    "        torch.save(dict(\n",
    "                        state_dict=model.state_dict()),\n",
    "                   os.path.join(args.model_dir,\n",
    "                                'checkpoint-epoch{}.pt'.format(epoch)))\n",
    "        torch.save(optimizer.state_dict(),\n",
    "                   os.path.join(args.model_dir,\n",
    "                                'opt-checkpoint_epoch{}.tar'.format(epoch)))\n",
    "        \n",
    "    delete_old_ckpts(args.model_dir)"
   ]
  },
  {
   "cell_type": "markdown",
   "metadata": {},
   "source": [
    "Train linear classifier on top of leanred representations"
   ]
  },
  {
   "cell_type": "code",
   "execution_count": 16,
   "metadata": {
    "scrolled": true
   },
   "outputs": [],
   "source": [
    "test_transofrms = transforms.Compose([transforms.ToPILImage(), transforms.ToTensor()])\n",
    "val_dataset = CustomDataset(X_val, y_val, train=False, transform=test_transofrms)\n",
    "kwargs = {'num_workers': 1, 'pin_memory': True} if use_cuda else {}\n",
    "val_loader = DataLoader(val_dataset, batch_size=512, shuffle=False, **kwargs)"
   ]
  },
  {
   "cell_type": "code",
   "execution_count": 63,
   "metadata": {},
   "outputs": [],
   "source": [
    "model.eval()\n",
    "counter = 0\n",
    "f, l = [], []\n",
    "with torch.no_grad():\n",
    "    for X_batch, y_batch in tqdm(val_loader):\n",
    "        X_batch = X_batch.to(args.device)\n",
    "        features = model(X_batch)\n",
    "        f.append(features.detach().cpu().numpy())\n",
    "        l.append(y_batch.detach().cpu().numpy())\n",
    "        if len(np.concatenate(l)) > 100000:\n",
    "            break"
   ]
  },
  {
   "cell_type": "code",
   "execution_count": 19,
   "metadata": {},
   "outputs": [
    {
     "name": "stdout",
     "output_type": "stream",
     "text": [
      "(10000, 128)\n"
     ]
    }
   ],
   "source": [
    "a = np.concatenate(f, 0)\n",
    "b = np.concatenate(l)\n",
    "chosen_idxs = np.random.choice(len(a), 10000, replace=False)\n",
    "a = a[chosen_idxs]\n",
    "b = b[chosen_idxs]\n",
    "a_train, a_test, b_train, b_test = train_test_split(a, b, test_size=int(0.1 * len(a)))\n",
    "print(a.shape)"
   ]
  },
  {
   "cell_type": "code",
   "execution_count": 20,
   "metadata": {},
   "outputs": [
    {
     "name": "stderr",
     "output_type": "stream",
     "text": [
      "/home/amiratag/.local/lib/python3.6/site-packages/sklearn/linear_model/_logistic.py:764: ConvergenceWarning: lbfgs failed to converge (status=1):\n",
      "STOP: TOTAL NO. of ITERATIONS REACHED LIMIT.\n",
      "\n",
      "Increase the number of iterations (max_iter) or scale the data as shown in:\n",
      "    https://scikit-learn.org/stable/modules/preprocessing.html\n",
      "Please also refer to the documentation for alternative solver options:\n",
      "    https://scikit-learn.org/stable/modules/linear_model.html#logistic-regression\n",
      "  extra_warning_msg=_LOGISTIC_SOLVER_CONVERGENCE_MSG)\n",
      "/home/amiratag/.local/lib/python3.6/site-packages/sklearn/linear_model/_logistic.py:764: ConvergenceWarning: lbfgs failed to converge (status=1):\n",
      "STOP: TOTAL NO. of ITERATIONS REACHED LIMIT.\n",
      "\n",
      "Increase the number of iterations (max_iter) or scale the data as shown in:\n",
      "    https://scikit-learn.org/stable/modules/preprocessing.html\n",
      "Please also refer to the documentation for alternative solver options:\n",
      "    https://scikit-learn.org/stable/modules/linear_model.html#logistic-regression\n",
      "  extra_warning_msg=_LOGISTIC_SOLVER_CONVERGENCE_MSG)\n",
      "/home/amiratag/.local/lib/python3.6/site-packages/sklearn/linear_model/_logistic.py:764: ConvergenceWarning: lbfgs failed to converge (status=1):\n",
      "STOP: TOTAL NO. of ITERATIONS REACHED LIMIT.\n",
      "\n",
      "Increase the number of iterations (max_iter) or scale the data as shown in:\n",
      "    https://scikit-learn.org/stable/modules/preprocessing.html\n",
      "Please also refer to the documentation for alternative solver options:\n",
      "    https://scikit-learn.org/stable/modules/linear_model.html#logistic-regression\n",
      "  extra_warning_msg=_LOGISTIC_SOLVER_CONVERGENCE_MSG)\n",
      "/home/amiratag/.local/lib/python3.6/site-packages/sklearn/linear_model/_logistic.py:764: ConvergenceWarning: lbfgs failed to converge (status=1):\n",
      "STOP: TOTAL NO. of ITERATIONS REACHED LIMIT.\n",
      "\n",
      "Increase the number of iterations (max_iter) or scale the data as shown in:\n",
      "    https://scikit-learn.org/stable/modules/preprocessing.html\n",
      "Please also refer to the documentation for alternative solver options:\n",
      "    https://scikit-learn.org/stable/modules/linear_model.html#logistic-regression\n",
      "  extra_warning_msg=_LOGISTIC_SOLVER_CONVERGENCE_MSG)\n",
      "/home/amiratag/.local/lib/python3.6/site-packages/sklearn/linear_model/_logistic.py:764: ConvergenceWarning: lbfgs failed to converge (status=1):\n",
      "STOP: TOTAL NO. of ITERATIONS REACHED LIMIT.\n",
      "\n",
      "Increase the number of iterations (max_iter) or scale the data as shown in:\n",
      "    https://scikit-learn.org/stable/modules/preprocessing.html\n",
      "Please also refer to the documentation for alternative solver options:\n",
      "    https://scikit-learn.org/stable/modules/linear_model.html#logistic-regression\n",
      "  extra_warning_msg=_LOGISTIC_SOLVER_CONVERGENCE_MSG)\n"
     ]
    },
    {
     "data": {
      "text/plain": [
       "array([0.62  , 0.623 , 0.6315, 0.6285, 0.632 ])"
      ]
     },
     "execution_count": 20,
     "metadata": {},
     "output_type": "execute_result"
    }
   ],
   "source": [
    "lr = LogisticRegression()\n",
    "cross_val_score(lr, a, b, cv=5)"
   ]
  },
  {
   "cell_type": "code",
   "execution_count": 21,
   "metadata": {},
   "outputs": [
    {
     "name": "stderr",
     "output_type": "stream",
     "text": [
      "/home/amiratag/.local/lib/python3.6/site-packages/sklearn/linear_model/_logistic.py:764: ConvergenceWarning: lbfgs failed to converge (status=1):\n",
      "STOP: TOTAL NO. of ITERATIONS REACHED LIMIT.\n",
      "\n",
      "Increase the number of iterations (max_iter) or scale the data as shown in:\n",
      "    https://scikit-learn.org/stable/modules/preprocessing.html\n",
      "Please also refer to the documentation for alternative solver options:\n",
      "    https://scikit-learn.org/stable/modules/linear_model.html#logistic-regression\n",
      "  extra_warning_msg=_LOGISTIC_SOLVER_CONVERGENCE_MSG)\n"
     ]
    },
    {
     "data": {
      "text/plain": [
       "LogisticRegression()"
      ]
     },
     "execution_count": 21,
     "metadata": {},
     "output_type": "execute_result"
    }
   ],
   "source": [
    "lr.fit(a_train, b_train)"
   ]
  },
  {
   "cell_type": "code",
   "execution_count": 30,
   "metadata": {},
   "outputs": [
    {
     "data": {
      "image/png": "[encoded data removed]",
      "text/plain": [
       "<Figure size 576x576 with 2 Axes>"
      ]
     },
     "metadata": {},
     "output_type": "display_data"
    }
   ],
   "source": [
    "from sklearn.metrics import confusion_matrix\n",
    "cm = confusion_matrix(b_test, lr.predict(a_test))\n",
    "normalized_cm = cm/np.sum(cm, -1, keepdims=True)\n",
    "\n",
    "\n",
    "fig = plt.figure(figsize=(8, 8))\n",
    "plt.imshow(normalized_cm, vmin=0., vmax=1)\n",
    "plt.colorbar()\n",
    "plt.xticks(np.arange(5), ['Gleason {}'.format(i) for i in range(1,6)], fontsize=12)\n",
    "plt.yticks(np.arange(5), ['Gleason {}'.format(i) for i in range(1,6)], fontsize=12)\n",
    "plt.xlabel('Predicted', fontsize=15)\n",
    "plt.ylabel('True', fontsize=15)\n",
    "plt.title('Prediction Accuracy = {0:.1f}%'.format(100 * np.mean(lr.predict(a_test) == b_test)), fontsize=15)\n",
    "for i in range(5):\n",
    "    for j in range(5):\n",
    "        plt.annotate('{0:.2f}%'.format(100 * normalized_cm[i, j]), (j-0.3, i+0.1), color='white', fontsize=12)"
   ]
  },
  {
   "cell_type": "code",
   "execution_count": null,
   "metadata": {},
   "outputs": [],
   "source": []
  }
 ],
 "metadata": {
  "kernelspec": {
   "display_name": "Python 3",
   "language": "python",
   "name": "python3"
  },
  "language_info": {
   "codemirror_mode": {
    "name": "ipython",
    "version": 3
   },
   "file_extension": ".py",
   "mimetype": "text/x-python",
   "name": "python",
   "nbconvert_exporter": "python",
   "pygments_lexer": "ipython3",
   "version": "3.6.9"
  }
 },
 "nbformat": 4,
 "nbformat_minor": 2
}
